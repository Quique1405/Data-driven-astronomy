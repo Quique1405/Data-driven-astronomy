{
 "cells": [
  {
   "cell_type": "markdown",
   "id": "fd1498b2",
   "metadata": {},
   "source": [
    "# SQL\n"
   ]
  },
  {
   "cell_type": "markdown",
   "id": "f19301d4",
   "metadata": {},
   "source": [
    "## Comandos básicos\n"
   ]
  },
  {
   "cell_type": "markdown",
   "id": "6ea492e4",
   "metadata": {},
   "source": [
    "#### **SELECT (FILAS) AS (COMO) FROM (BASE DE DATOS) WHERE (CONDICIONAL)**\n"
   ]
  },
  {
   "cell_type": "markdown",
   "id": "d7bd1ea2",
   "metadata": {},
   "source": [
    "#### GROUP BY (AGRUPAR RESULTADOS)"
   ]
  },
  {
   "cell_type": "markdown",
   "id": "9792b611",
   "metadata": {},
   "source": [
    "#### HAVING (FILTRAR RESULTADOS)"
   ]
  },
  {
   "cell_type": "markdown",
   "id": "2583a585",
   "metadata": {},
   "source": [
    "#### ORDER BY (ORDENAR POR)"
   ]
  },
  {
   "cell_type": "markdown",
   "id": "3426be71",
   "metadata": {},
   "source": [
    "#### LIMIT (LIMITAR RESULTADOS)"
   ]
  },
  {
   "cell_type": "markdown",
   "id": "2f6573c0",
   "metadata": {},
   "source": [
    "# "
   ]
  },
  {
   "cell_type": "markdown",
   "id": "db5869b0",
   "metadata": {},
   "source": [
    "\n",
    "# "
   ]
  },
  {
   "cell_type": "markdown",
   "id": "163bcd52",
   "metadata": {},
   "source": [
    "## Conceptos importantes\n"
   ]
  },
  {
   "cell_type": "markdown",
   "id": "b76ba196",
   "metadata": {},
   "source": [
    "#### /d (database) ofrece descripción general de la estructura de la tabla"
   ]
  },
  {
   "cell_type": "markdown",
   "id": "93201541",
   "metadata": {},
   "source": [
    "#### NULL: Vacio, indefinido, no aplica, desconocido"
   ]
  },
  {
   "cell_type": "markdown",
   "id": "bb71c26c",
   "metadata": {},
   "source": [
    " "
   ]
  },
  {
   "cell_type": "markdown",
   "id": "ceb78d27",
   "metadata": {},
   "source": [
    " "
   ]
  },
  {
   "cell_type": "markdown",
   "id": "9e4484e4",
   "metadata": {},
   "source": [
    "## Modificadores"
   ]
  },
  {
   "cell_type": "markdown",
   "id": "658c9e2f",
   "metadata": {},
   "source": [
    "### INSERT\n",
    "\n"
   ]
  },
  {
   "cell_type": "markdown",
   "id": "520547a1",
   "metadata": {},
   "source": [
    "#### INSERT INTO tablename (attributes) VALUES (...);\n"
   ]
  },
  {
   "cell_type": "markdown",
   "id": "756a1e86",
   "metadata": {},
   "source": [
    "#### INSERT INTO Star (kepler_id, t_eff, radius) VALUES\n",
    "####  (2713050, 5000, 0.956),\n",
    "####  (2713051, 3100, 1.321);"
   ]
  },
  {
   "cell_type": "markdown",
   "id": "ec38a936",
   "metadata": {},
   "source": [
    "### DELETE"
   ]
  },
  {
   "cell_type": "markdown",
   "id": "4bd2a5d3",
   "metadata": {},
   "source": [
    "#### DELETE FROM tablename WHERE condition;"
   ]
  },
  {
   "cell_type": "markdown",
   "id": "9c26a8d2",
   "metadata": {},
   "source": [
    "### UPDATE"
   ]
  },
  {
   "cell_type": "markdown",
   "id": "2055cccd",
   "metadata": {},
   "source": [
    "#### UPDATE tablename\n",
    "#### SET expression\n",
    "#### WHERE condition"
   ]
  },
  {
   "cell_type": "markdown",
   "id": "720824c2",
   "metadata": {},
   "source": [
    "#### UPDATE Star\n",
    "#### SET t_eff = 6000\n",
    "#### WHERE kepler_id = 2713049;"
   ]
  },
  {
   "cell_type": "code",
   "execution_count": null,
   "id": "01fde611",
   "metadata": {},
   "outputs": [],
   "source": []
  }
 ],
 "metadata": {
  "kernelspec": {
   "display_name": "Python 3 (ipykernel)",
   "language": "python",
   "name": "python3"
  },
  "language_info": {
   "codemirror_mode": {
    "name": "ipython",
    "version": 3
   },
   "file_extension": ".py",
   "mimetype": "text/x-python",
   "name": "python",
   "nbconvert_exporter": "python",
   "pygments_lexer": "ipython3",
   "version": "3.9.4"
  }
 },
 "nbformat": 4,
 "nbformat_minor": 5
}
